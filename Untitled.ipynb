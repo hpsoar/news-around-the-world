{
 "cells": [
  {
   "cell_type": "code",
   "execution_count": 82,
   "metadata": {
    "collapsed": false
   },
   "outputs": [
    {
     "ename": "NameError",
     "evalue": "name 'lst' is not defined",
     "output_type": "error",
     "traceback": [
      "\u001b[0;31m---------------------------------------------------------------------------\u001b[0m",
      "\u001b[0;31mNameError\u001b[0m                                 Traceback (most recent call last)",
      "\u001b[0;32m<ipython-input-82-1838e1fdd9a0>\u001b[0m in \u001b[0;36m<module>\u001b[0;34m()\u001b[0m\n\u001b[1;32m     18\u001b[0m     \u001b[0;32mreturn\u001b[0m \u001b[0mlst\u001b[0m\u001b[0;34m\u001b[0m\u001b[0m\n\u001b[1;32m     19\u001b[0m \u001b[0;34m\u001b[0m\u001b[0m\n\u001b[0;32m---> 20\u001b[0;31m \u001b[0;32mprint\u001b[0m \u001b[0mlst\u001b[0m\u001b[0;34m.\u001b[0m\u001b[0mkeys\u001b[0m\u001b[0;34m(\u001b[0m\u001b[0;34m)\u001b[0m\u001b[0;34m\u001b[0m\u001b[0m\n\u001b[0m",
      "\u001b[0;31mNameError\u001b[0m: name 'lst' is not defined"
     ]
    }
   ],
   "source": [
    "def create_geojson():\n",
    "    cities = models.Locations.query.all()\n",
    "    lst = []\n",
    "    for location in cities:\n",
    "        tweets = location.get_tweets()\n",
    "        if tweets:\n",
    "            point = geojson.Point((location.latitude, location.longitude))\n",
    "            properties = {}\n",
    "            properties['location']=location.location\n",
    "            articles={}\n",
    "            for tweet in tweets:\n",
    "                articles[tweet.t_url]=tweet.headline\n",
    "            properties['articles']=articles\n",
    "            feature = geojson.Feature(geometry=my_point, properties=properties)\n",
    "            dumps = geojson.dumps(feature)\n",
    "            lst.append(dumps)\n",
    "    return lst\n",
    "print lst.keys()\n"
   ]
  },
  {
   "cell_type": "code",
   "execution_count": null,
   "metadata": {
    "collapsed": false
   },
   "outputs": [],
   "source": [
    "from app import models, db\n",
    "import twitter\n",
    "import requests\n",
    "from bs4 import BeautifulSoup\n",
    "import json\n",
    "from app import cities\n",
    "import re\n",
    "import geojson\n",
    "import json"
   ]
  },
  {
   "cell_type": "code",
   "execution_count": 83,
   "metadata": {
    "collapsed": false,
    "scrolled": false
   },
   "outputs": [],
   "source": [
    "x = create_geojson()"
   ]
  },
  {
   "cell_type": "code",
   "execution_count": 76,
   "metadata": {
    "collapsed": false,
    "scrolled": true
   },
   "outputs": [
    {
     "name": "stdout",
     "output_type": "stream",
     "text": [
      "[{\"geometry\": {\"coordinates\": [-3.68, 40.41], \"type\": \"Point\"}, \"properties\": \"{\\\"articles\\\": {\\\"http://t.co/test\\\": \\\"TEST\\\"}, \\\"location\\\": \\\"Roseau\\\"}\", \"type\": \"Feature\"}, {\"geometry\": {\"coordinates\": [-3.68, 40.41], \"type\": \"Point\"}, \"properties\": \"{\\\"articles\\\": {\\\"http://t.co/ekHLiCykng\\\": \\\"Cincinnati Bengals player Devon Still confirms his daughter Leah remains cancer-free: http://t.co/ekHLiCykng http://t.co/FmwIie5FfK\\\"}, \\\"location\\\": \\\"Cincinnati\\\"}\", \"type\": \"Feature\"}, {\"geometry\": {\"coordinates\": [-3.68, 40.41], \"type\": \"Point\"}, \"properties\": \"{\\\"articles\\\": {\\\"http://t.co/wVMPxptmXQ\\\": \\\"RT @bbcworldservice: Here's Joan Hooley - one half of the first-ever interracial kiss on TV \\\\ud83d\\\\udcfb http://t.co/wVMPxptmXQ http://t.co/7xCf0iiVRu\\\", \\\"http://t.co/987yN8S8JA\\\": \\\"Two people who triggered closure of Manchester Royal Infirmary's casualty unit test negative for Mers virus http://t.co/987yN8S8JA\\\", \\\"http://t.co/MzikNALdrb\\\": \\\"Manchester Royal Infirmary temporarily shuts A&amp;E unit after suspected Middle Eastern Respiratory Syndrome outbreak http://t.co/MzikNALdrb\\\"}, \\\"location\\\": \\\"Manchester\\\"}\", \"type\": \"Feature\"}, {\"geometry\": {\"coordinates\": [-3.68, 40.41], \"type\": \"Point\"}, \"properties\": \"{\\\"articles\\\": {\\\"http://t.co/E61vAI35yS\\\": \\\"RT @BBCMonitoring: France's foreign minister breaks new ground with op-ed in Iranian newspaper http://t.co/E61vAI35yS http://t.co/HZ9u88Iy8a\\\"}, \\\"location\\\": \\\"Paris\\\"}\", \"type\": \"Feature\"}, {\"geometry\": {\"coordinates\": [-3.68, 40.41], \"type\": \"Point\"}, \"properties\": \"{\\\"articles\\\": {\\\"http://t.co/oeOzU64e7I\\\": \\\"RT @BBCMonitoring: China's new breed of topical TV debate shows put officials on the spot http://t.co/oeOzU64e7I http://t.co/ixa5gLtQBl\\\"}, \\\"location\\\": \\\"Shanghai\\\"}\", \"type\": \"Feature\"}, {\"geometry\": {\"coordinates\": [-3.68, 40.41], \"type\": \"Point\"}, \"properties\": \"{\\\"articles\\\": {\\\"http://t.co/Gp80SnvJFS\\\": \\\"RT @BBCMonitoring: Egypt hopes ambitious plan for a second Suez Canal will create 1m jobs http://t.co/Gp80SnvJFS http://t.co/MypCZYgmLV\\\"}, \\\"location\\\": \\\"Suez\\\"}\", \"type\": \"Feature\"}, {\"geometry\": {\"coordinates\": [-3.68, 40.41], \"type\": \"Point\"}, \"properties\": \"{\\\"articles\\\": {\\\"http://t.co/I6zof5anHu\\\": \\\"Lord Sewel given \\\\\\\"leave of absence\\\\\\\" from House of Lords after being filmed allegedly taking drugs with prostitutes. http://t.co/I6zof5anHu\\\", \\\"http://t.co/zvXpVfANI8\\\": \\\"RT @BBCClick: Nokia has its eyes on Hollywood and plans to develop a virtual reality camera for the movie industry http://t.co/zvXpVfANI8\\\", \\\"http://t.co/iRv3YqpP2y\\\": \\\"About 2,000 migrants tried to enter Channel Tunnel terminal in Calais on Monday night, operator Eurotunnel says http://t.co/iRv3YqpP2y\\\", \\\"http://t.co/YiODaXnWWs\\\": \\\"RT @BBCNews: Revealed: How ants move massive meals http://t.co/YiODaXnWWs http://t.co/FsJMSHdKdd\\\", \\\"http://t.co/93voXyWxUY\\\": \\\"Lord Sewel resigns from UK Parliament after being filmed allegedly taking drugs with sex workers http://t.co/93voXyWxUY\\\", \\\"http://t.co/EHbQnXIIXo\\\": \\\"Former PM &amp; spy chief will also face Libya firing squad alongside Saif al-Islam Gaddafi http://t.co/EHbQnXIIXo http://t.co/SQAzbBYEYJ\\\", \\\"http://t.co/Z1TQA4iCxs\\\": \\\"RT @BBC_HaveYourSay: 10 out of 10?  8 or less? Thanks for sharing your views and scores on the new #Windows10 http://t.co/Z1TQA4iCxs http:/\\\\u2026\\\", \\\"http://t.co/987yN8S8JA\\\": \\\"Two people who triggered closure of Manchester Royal Infirmary's casualty unit test negative for Mers virus http://t.co/987yN8S8JA\\\", \\\"http://t.co/u7sU6XfQmh\\\": \\\"Saif al-Islam Gaddafi, son of Libya's ex-leader Colonel Gaddafi, sentenced to death over war crimes in 2011 uprising http://t.co/u7sU6XfQmh\\\", \\\"http://t.co/qKPIVjzmAs\\\": \\\"Taliban leader Mullah Omar died in 2013, Afghan government says http://t.co/qKPIVjzmAs http://t.co/HWNh7FCPC5\\\", \\\"http://t.co/UV3tb8sRKU\\\": \\\"RT @BBCNewsMagazine: The reasons why some parents disinherit their children http://t.co/UV3tb8sRKU http://t.co/SZKl2UVt0F\\\", \\\"http://t.co/cx8qWfQ47m\\\": \\\"Taliban leader Mullah Omar has died, Afghan government sources say, but the militant group has not commented http://t.co/cx8qWfQ47m\\\", \\\"http://t.co/SxnqIxz5vh\\\": \\\"Lord Sewel must quit over sex &amp; drugs claims, ex-Commons speaker Baroness Boothroyd tells BBC http://t.co/SxnqIxz5vh http://t.co/nImtgo81SL\\\", \\\"http://t.co/pOrEaSzLwe\\\": \\\"RT @BBCNewsUS: How did this Nazi flagship become the Eagle of the @USCoastguard? http://t.co/pOrEaSzLwe\\\\nhttps://t.co/TRrdesCmDX\\\", \\\"http://t.co/wADF8I3sli\\\": \\\"Former BBC horse racing commentator Sir Peter O'Sullevan dies aged 97 http://t.co/wADF8I3sli http://t.co/BAuyqyWVAr\\\", \\\"http://t.co/GlQyGwWtIH\\\": \\\"Statement from Lord Sewel, who's quit as UK peer after sex &amp; drugs scandal http://t.co/GlQyGwWtIH http://t.co/SxxD6EbdcE\\\", \\\"http://t.co/BdP9nRiU3j\\\": \\\"One person reported dead as hundreds tried to enter Channel Tunnel terminal in Calais on Tuesday night http://t.co/BdP9nRiU3j\\\", \\\"http://t.co/p19DFfJDfa\\\": \\\"Remains found at site of explosion at mill in Bosley by police looking for fourth missing person http://t.co/p19DFfJDfa\\\", \\\"http://t.co/MzikNALdrb\\\": \\\"Manchester Royal Infirmary temporarily shuts A&amp;E unit after suspected Middle Eastern Respiratory Syndrome outbreak http://t.co/MzikNALdrb\\\"}, \\\"location\\\": \\\"London\\\"}\", \"type\": \"Feature\"}, {\"geometry\": {\"coordinates\": [-3.68, 40.41], \"type\": \"Point\"}, \"properties\": \"{\\\"articles\\\": {\\\"http://t.co/qKPIVjzmAs\\\": \\\"Taliban leader Mullah Omar died in 2013, Afghan government says http://t.co/qKPIVjzmAs http://t.co/HWNh7FCPC5\\\", \\\"http://t.co/cx8qWfQ47m\\\": \\\"Taliban leader Mullah Omar has died, Afghan government sources say, but the militant group has not commented http://t.co/cx8qWfQ47m\\\"}, \\\"location\\\": \\\"Peshawar\\\"}\", \"type\": \"Feature\"}, {\"geometry\": {\"coordinates\": [-3.68, 40.41], \"type\": \"Point\"}, \"properties\": \"{\\\"articles\\\": {\\\"http://t.co/BdP9nRiU3j\\\": \\\"One person reported dead as hundreds tried to enter Channel Tunnel terminal in Calais on Tuesday night http://t.co/BdP9nRiU3j\\\"}, \\\"location\\\": \\\"Stanley\\\"}\", \"type\": \"Feature\"}, {\"geometry\": {\"coordinates\": [-3.68, 40.41], \"type\": \"Point\"}, \"properties\": \"{\\\"articles\\\": {\\\"http://t.co/SxnqIxz5vh\\\": \\\"Lord Sewel must quit over sex &amp; drugs claims, ex-Commons speaker Baroness Boothroyd tells BBC http://t.co/SxnqIxz5vh http://t.co/nImtgo81SL\\\"}, \\\"location\\\": \\\"Aberdeen\\\"}\", \"type\": \"Feature\"}, {\"geometry\": {\"coordinates\": [-3.68, 40.41], \"type\": \"Point\"}, \"properties\": \"{\\\"articles\\\": {\\\"http://t.co/594BkYZdSo\\\": \\\"8 children injured, 2 critically, when 70-foot-tall pine tree crashes down outside CA museum: http://t.co/594BkYZdSo http://t.co/TrSjHqT1rd\\\", \\\"http://t.co/zvXpVfANI8\\\": \\\"RT @BBCClick: Nokia has its eyes on Hollywood and plans to develop a virtual reality camera for the movie industry http://t.co/zvXpVfANI8\\\"}, \\\"location\\\": \\\"Los Angeles\\\"}\", \"type\": \"Feature\"}, {\"geometry\": {\"coordinates\": [-3.68, 40.41], \"type\": \"Point\"}, \"properties\": \"{\\\"articles\\\": {\\\"http://t.co/UV3tb8sRKU\\\": \\\"RT @BBCNewsMagazine: The reasons why some parents disinherit their children http://t.co/UV3tb8sRKU http://t.co/SZKl2UVt0F\\\"}, \\\"location\\\": \\\"Leeds\\\"}\", \"type\": \"Feature\"}, {\"geometry\": {\"coordinates\": [-3.68, 40.41], \"type\": \"Point\"}, \"properties\": \"{\\\"articles\\\": {\\\"http://t.co/oeOzU64e7I\\\": \\\"RT @BBCMonitoring: China's new breed of topical TV debate shows put officials on the spot http://t.co/oeOzU64e7I http://t.co/ixa5gLtQBl\\\"}, \\\"location\\\": \\\"Wuhan\\\"}\", \"type\": \"Feature\"}, {\"geometry\": {\"coordinates\": [-3.68, 40.41], \"type\": \"Point\"}, \"properties\": \"{\\\"articles\\\": {\\\"http://t.co/pOrEaSzLwe\\\": \\\"RT @BBCNewsUS: How did this Nazi flagship become the Eagle of the @USCoastguard? http://t.co/pOrEaSzLwe\\\\nhttps://t.co/TRrdesCmDX\\\"}, \\\"location\\\": \\\"San Francisco\\\"}\", \"type\": \"Feature\"}, {\"geometry\": {\"coordinates\": [-3.68, 40.41], \"type\": \"Point\"}, \"properties\": \"{\\\"articles\\\": {\\\"http://t.co/pOrEaSzLwe\\\": \\\"RT @BBCNewsUS: How did this Nazi flagship become the Eagle of the @USCoastguard? http://t.co/pOrEaSzLwe\\\\nhttps://t.co/TRrdesCmDX\\\"}, \\\"location\\\": \\\"Alexandria\\\"}\", \"type\": \"Feature\"}, {\"geometry\": {\"coordinates\": [-3.68, 40.41], \"type\": \"Point\"}, \"properties\": \"{\\\"articles\\\": {\\\"http://t.co/p19DFfJDfa\\\": \\\"Remains found at site of explosion at mill in Bosley by police looking for fourth missing person http://t.co/p19DFfJDfa\\\"}, \\\"location\\\": \\\"Liverpool\\\"}\", \"type\": \"Feature\"}, {\"geometry\": {\"coordinates\": [-3.68, 40.41], \"type\": \"Point\"}, \"properties\": \"{\\\"articles\\\": {\\\"http://t.co/FmalfFAnq9\\\": \\\"James Holmes' father says son is 'excellent kid' in desperate bid to save his life: http://t.co/FmalfFAnq9 http://t.co/unAsaHV0mh\\\", \\\"http://t.co/pOrEaSzLwe\\\": \\\"RT @BBCNewsUS: How did this Nazi flagship become the Eagle of the @USCoastguard? http://t.co/pOrEaSzLwe\\\\nhttps://t.co/TRrdesCmDX\\\"}, \\\"location\\\": \\\"San Diego\\\"}\", \"type\": \"Feature\"}, {\"geometry\": {\"coordinates\": [-3.68, 40.41], \"type\": \"Point\"}, \"properties\": \"{\\\"articles\\\": {\\\"http://t.co/qvWN5Zxldz\\\": \\\"Patriots owner Bob Kraft defends Tom Brady, calls #Deflategate game suspension 'unfathomable' http://t.co/qvWN5Zxldz http://t.co/RwtCymij2q\\\", \\\"http://t.co/oeOzU64e7I\\\": \\\"RT @BBCMonitoring: China's new breed of topical TV debate shows put officials on the spot http://t.co/oeOzU64e7I http://t.co/ixa5gLtQBl\\\"}, \\\"location\\\": \\\"Beijing\\\"}\", \"type\": \"Feature\"}, {\"geometry\": {\"coordinates\": [-3.68, 40.41], \"type\": \"Point\"}, \"properties\": \"{\\\"articles\\\": {\\\"http://t.co/qvWN5Zxldz\\\": \\\"Patriots owner Bob Kraft defends Tom Brady, calls #Deflategate game suspension 'unfathomable' http://t.co/qvWN5Zxldz http://t.co/RwtCymij2q\\\"}, \\\"location\\\": \\\"Seattle\\\"}\", \"type\": \"Feature\"}, {\"geometry\": {\"coordinates\": [-3.68, 40.41], \"type\": \"Point\"}, \"properties\": \"{\\\"articles\\\": {\\\"http://t.co/m6Lj7yQa7C\\\": \\\"Curtis Jones, the youngest person in US convicted of murder, released after serving 16 years: http://t.co/m6Lj7yQa7C http://t.co/1zgpBHuzrA\\\"}, \\\"location\\\": \\\"Melbourne\\\"}\", \"type\": \"Feature\"}, {\"geometry\": {\"coordinates\": [-3.68, 40.41], \"type\": \"Point\"}, \"properties\": \"{\\\"articles\\\": {\\\"http://t.co/pOrEaSzLwe\\\": \\\"RT @BBCNewsUS: How did this Nazi flagship become the Eagle of the @USCoastguard? http://t.co/pOrEaSzLwe\\\\nhttps://t.co/TRrdesCmDX\\\"}, \\\"location\\\": \\\"Berlin\\\"}\", \"type\": \"Feature\"}, {\"geometry\": {\"coordinates\": [-3.68, 40.41], \"type\": \"Point\"}, \"properties\": \"{\\\"articles\\\": {\\\"http://t.co/qKPIVjzmAs\\\": \\\"Taliban leader Mullah Omar died in 2013, Afghan government says http://t.co/qKPIVjzmAs http://t.co/HWNh7FCPC5\\\", \\\"http://t.co/cx8qWfQ47m\\\": \\\"Taliban leader Mullah Omar has died, Afghan government sources say, but the militant group has not commented http://t.co/cx8qWfQ47m\\\"}, \\\"location\\\": \\\"Kabul\\\"}\", \"type\": \"Feature\"}, {\"geometry\": {\"coordinates\": [-3.68, 40.41], \"type\": \"Point\"}, \"properties\": \"{\\\"articles\\\": {\\\"http://t.co/GlQyGwWtIH\\\": \\\"Statement from Lord Sewel, who's quit as UK peer after sex &amp; drugs scandal http://t.co/GlQyGwWtIH http://t.co/SxxD6EbdcE\\\", \\\"http://t.co/BdP9nRiU3j\\\": \\\"One person reported dead as hundreds tried to enter Channel Tunnel terminal in Calais on Tuesday night http://t.co/BdP9nRiU3j\\\", \\\"http://t.co/93voXyWxUY\\\": \\\"Lord Sewel resigns from UK Parliament after being filmed allegedly taking drugs with sex workers http://t.co/93voXyWxUY\\\"}, \\\"location\\\": \\\"Singapore\\\"}\", \"type\": \"Feature\"}, {\"geometry\": {\"coordinates\": [-3.68, 40.41], \"type\": \"Point\"}, \"properties\": \"{\\\"articles\\\": {\\\"http://t.co/WN7rISkO5X\\\": \\\"Watch Houston parents break into locked daycare to rescue 10-month old son: http://t.co/WN7rISkO5X http://t.co/TNKq8FYwaN\\\"}, \\\"location\\\": \\\"Houston\\\"}\", \"type\": \"Feature\"}, {\"geometry\": {\"coordinates\": [-3.68, 40.41], \"type\": \"Point\"}, \"properties\": \"{\\\"articles\\\": {\\\"http://t.co/EHbQnXIIXo\\\": \\\"Former PM &amp; spy chief will also face Libya firing squad alongside Saif al-Islam Gaddafi http://t.co/EHbQnXIIXo http://t.co/SQAzbBYEYJ\\\", \\\"http://t.co/u7sU6XfQmh\\\": \\\"Saif al-Islam Gaddafi, son of Libya's ex-leader Colonel Gaddafi, sentenced to death over war crimes in 2011 uprising http://t.co/u7sU6XfQmh\\\"}, \\\"location\\\": \\\"Tripoli\\\"}\", \"type\": \"Feature\"}, {\"geometry\": {\"coordinates\": [-3.68, 40.41], \"type\": \"Point\"}, \"properties\": \"{\\\"articles\\\": {\\\"http://t.co/pOrEaSzLwe\\\": \\\"RT @BBCNewsUS: How did this Nazi flagship become the Eagle of the @USCoastguard? http://t.co/pOrEaSzLwe\\\\nhttps://t.co/TRrdesCmDX\\\"}, \\\"location\\\": \\\"Hamburg\\\"}\", \"type\": \"Feature\"}, {\"geometry\": {\"coordinates\": [-3.68, 40.41], \"type\": \"Point\"}, \"properties\": \"{\\\"articles\\\": {\\\"http://t.co/FmalfFAnq9\\\": \\\"James Holmes' father says son is 'excellent kid' in desperate bid to save his life: http://t.co/FmalfFAnq9 http://t.co/unAsaHV0mh\\\"}, \\\"location\\\": \\\"Riverside\\\"}\", \"type\": \"Feature\"}, {\"geometry\": {\"coordinates\": [-3.68, 40.41], \"type\": \"Point\"}, \"properties\": \"{\\\"articles\\\": {\\\"http://t.co/oeOzU64e7I\\\": \\\"RT @BBCMonitoring: China's new breed of topical TV debate shows put officials on the spot http://t.co/oeOzU64e7I http://t.co/ixa5gLtQBl\\\"}, \\\"location\\\": \\\"Jinan\\\"}\", \"type\": \"Feature\"}, {\"geometry\": {\"coordinates\": [-3.68, 40.41], \"type\": \"Point\"}, \"properties\": \"{\\\"articles\\\": {\\\"http://t.co/Gp80SnvJFS\\\": \\\"RT @BBCMonitoring: Egypt hopes ambitious plan for a second Suez Canal will create 1m jobs http://t.co/Gp80SnvJFS http://t.co/MypCZYgmLV\\\"}, \\\"location\\\": \\\"Dubai\\\"}\", \"type\": \"Feature\"}, {\"geometry\": {\"coordinates\": [-3.68, 40.41], \"type\": \"Point\"}, \"properties\": \"{\\\"articles\\\": {\\\"http://t.co/UV3tb8sRKU\\\": \\\"RT @BBCNewsMagazine: The reasons why some parents disinherit their children http://t.co/UV3tb8sRKU http://t.co/SZKl2UVt0F\\\"}, \\\"location\\\": \\\"Miami\\\"}\", \"type\": \"Feature\"}, {\"geometry\": {\"coordinates\": [-3.68, 40.41], \"type\": \"Point\"}, \"properties\": \"{\\\"articles\\\": {\\\"http://t.co/Z6zUXMZg3j\\\": \\\"400-year-old remains identified as founders of Jamestown, buried with a mysterious reliquary: http://t.co/Z6zUXMZg3j http://t.co/vGhhJRkPhf\\\"}, \\\"location\\\": \\\"Douglas\\\"}\", \"type\": \"Feature\"}, {\"geometry\": {\"coordinates\": [-3.68, 40.41], \"type\": \"Point\"}, \"properties\": \"{\\\"articles\\\": {\\\"http://t.co/Z6zUXMZg3j\\\": \\\"400-year-old remains identified as founders of Jamestown, buried with a mysterious reliquary: http://t.co/Z6zUXMZg3j http://t.co/vGhhJRkPhf\\\"}, \\\"location\\\": \\\"Jamestown\\\"}\", \"type\": \"Feature\"}, {\"geometry\": {\"coordinates\": [-3.68, 40.41], \"type\": \"Point\"}, \"properties\": \"{\\\"articles\\\": {\\\"http://t.co/pOrEaSzLwe\\\": \\\"RT @BBCNewsUS: How did this Nazi flagship become the Eagle of the @USCoastguard? http://t.co/pOrEaSzLwe\\\\nhttps://t.co/TRrdesCmDX\\\"}, \\\"location\\\": \\\"Columbus\\\"}\", \"type\": \"Feature\"}, {\"geometry\": {\"coordinates\": [-3.68, 40.41], \"type\": \"Point\"}, \"properties\": \"{\\\"articles\\\": {\\\"http://t.co/I6zof5anHu\\\": \\\"Lord Sewel given \\\\\\\"leave of absence\\\\\\\" from House of Lords after being filmed allegedly taking drugs with prostitutes. http://t.co/I6zof5anHu\\\", \\\"http://t.co/zvXpVfANI8\\\": \\\"RT @BBCClick: Nokia has its eyes on Hollywood and plans to develop a virtual reality camera for the movie industry http://t.co/zvXpVfANI8\\\", \\\"http://t.co/iRv3YqpP2y\\\": \\\"About 2,000 migrants tried to enter Channel Tunnel terminal in Calais on Monday night, operator Eurotunnel says http://t.co/iRv3YqpP2y\\\", \\\"http://t.co/YiODaXnWWs\\\": \\\"RT @BBCNews: Revealed: How ants move massive meals http://t.co/YiODaXnWWs http://t.co/FsJMSHdKdd\\\", \\\"http://t.co/93voXyWxUY\\\": \\\"Lord Sewel resigns from UK Parliament after being filmed allegedly taking drugs with sex workers http://t.co/93voXyWxUY\\\", \\\"http://t.co/EHbQnXIIXo\\\": \\\"Former PM &amp; spy chief will also face Libya firing squad alongside Saif al-Islam Gaddafi http://t.co/EHbQnXIIXo http://t.co/SQAzbBYEYJ\\\", \\\"http://t.co/987yN8S8JA\\\": \\\"Two people who triggered closure of Manchester Royal Infirmary's casualty unit test negative for Mers virus http://t.co/987yN8S8JA\\\", \\\"http://t.co/u7sU6XfQmh\\\": \\\"Saif al-Islam Gaddafi, son of Libya's ex-leader Colonel Gaddafi, sentenced to death over war crimes in 2011 uprising http://t.co/u7sU6XfQmh\\\", \\\"http://t.co/qKPIVjzmAs\\\": \\\"Taliban leader Mullah Omar died in 2013, Afghan government says http://t.co/qKPIVjzmAs http://t.co/HWNh7FCPC5\\\", \\\"http://t.co/UV3tb8sRKU\\\": \\\"RT @BBCNewsMagazine: The reasons why some parents disinherit their children http://t.co/UV3tb8sRKU http://t.co/SZKl2UVt0F\\\", \\\"http://t.co/cx8qWfQ47m\\\": \\\"Taliban leader Mullah Omar has died, Afghan government sources say, but the militant group has not commented http://t.co/cx8qWfQ47m\\\", \\\"http://t.co/Z1TQA4iCxs\\\": \\\"RT @BBC_HaveYourSay: 10 out of 10?  8 or less? Thanks for sharing your views and scores on the new #Windows10 http://t.co/Z1TQA4iCxs http:/\\\\u2026\\\", \\\"http://t.co/pOrEaSzLwe\\\": \\\"RT @BBCNewsUS: How did this Nazi flagship become the Eagle of the @USCoastguard? http://t.co/pOrEaSzLwe\\\\nhttps://t.co/TRrdesCmDX\\\", \\\"http://t.co/SxnqIxz5vh\\\": \\\"Lord Sewel must quit over sex &amp; drugs claims, ex-Commons speaker Baroness Boothroyd tells BBC http://t.co/SxnqIxz5vh http://t.co/nImtgo81SL\\\", \\\"http://t.co/GlQyGwWtIH\\\": \\\"Statement from Lord Sewel, who's quit as UK peer after sex &amp; drugs scandal http://t.co/GlQyGwWtIH http://t.co/SxxD6EbdcE\\\", \\\"http://t.co/BdP9nRiU3j\\\": \\\"One person reported dead as hundreds tried to enter Channel Tunnel terminal in Calais on Tuesday night http://t.co/BdP9nRiU3j\\\", \\\"http://t.co/p19DFfJDfa\\\": \\\"Remains found at site of explosion at mill in Bosley by police looking for fourth missing person http://t.co/p19DFfJDfa\\\", \\\"http://t.co/MzikNALdrb\\\": \\\"Manchester Royal Infirmary temporarily shuts A&amp;E unit after suspected Middle Eastern Respiratory Syndrome outbreak http://t.co/MzikNALdrb\\\"}, \\\"location\\\": \\\"Hiroshima\\\"}\", \"type\": \"Feature\"}, {\"geometry\": {\"coordinates\": [-3.68, 40.41], \"type\": \"Point\"}, \"properties\": \"{\\\"articles\\\": {\\\"http://t.co/GrZijxaJYS\\\": \\\"Dentist who admitted to killing Cecil the lion now hounded on social media: http://t.co/GrZijxaJYS http://t.co/sCBELqGtMN\\\"}, \\\"location\\\": \\\"Austin\\\"}\", \"type\": \"Feature\"}, {\"geometry\": {\"coordinates\": [-3.68, 40.41], \"type\": \"Point\"}, \"properties\": \"{\\\"articles\\\": {\\\"http://t.co/hmXc2zoxCE\\\": \\\"Washington, DC is literally sinking into the Earth: http://t.co/hmXc2zoxCE http://t.co/GYXeIk9xjI\\\", \\\"http://t.co/qKPIVjzmAs\\\": \\\"Taliban leader Mullah Omar died in 2013, Afghan government says http://t.co/qKPIVjzmAs http://t.co/HWNh7FCPC5\\\", \\\"http://t.co/Z6zUXMZg3j\\\": \\\"400-year-old remains identified as founders of Jamestown, buried with a mysterious reliquary: http://t.co/Z6zUXMZg3j http://t.co/vGhhJRkPhf\\\", \\\"http://t.co/cx8qWfQ47m\\\": \\\"Taliban leader Mullah Omar has died, Afghan government sources say, but the militant group has not commented http://t.co/cx8qWfQ47m\\\"}, \\\"location\\\": \\\"Washington\\\"}\", \"type\": \"Feature\"}, {\"geometry\": {\"coordinates\": [-3.68, 40.41], \"type\": \"Point\"}, \"properties\": \"{\\\"articles\\\": {\\\"http://t.co/5daVQ12dJB\\\": \\\"Police rescue bulldog from searing hot car in NJ while the owner shopped: http://t.co/5daVQ12dJB http://t.co/Acc5FndjZm\\\"}, \\\"location\\\": \\\"Bergen\\\"}\", \"type\": \"Feature\"}, {\"geometry\": {\"coordinates\": [-3.68, 40.41], \"type\": \"Point\"}, \"properties\": \"{\\\"articles\\\": {\\\"http://t.co/pOrEaSzLwe\\\": \\\"RT @BBCNewsUS: How did this Nazi flagship become the Eagle of the @USCoastguard? http://t.co/pOrEaSzLwe\\\\nhttps://t.co/TRrdesCmDX\\\"}, \\\"location\\\": \\\"Philadelphia\\\"}\", \"type\": \"Feature\"}, {\"geometry\": {\"coordinates\": [-3.68, 40.41], \"type\": \"Point\"}, \"properties\": \"{\\\"articles\\\": {\\\"http://t.co/E61vAI35yS\\\": \\\"RT @BBCMonitoring: France's foreign minister breaks new ground with op-ed in Iranian newspaper http://t.co/E61vAI35yS http://t.co/HZ9u88Iy8a\\\"}, \\\"location\\\": \\\"Tehran\\\"}\", \"type\": \"Feature\"}, {\"geometry\": {\"coordinates\": [-3.68, 40.41], \"type\": \"Point\"}, \"properties\": \"{\\\"articles\\\": {\\\"http://t.co/TjX0AvEBqz\\\": \\\"RT @BBC_HaveYourSay: What a creative bunch \\\\ud83d\\\\udc4f See your colouring creations in this collection: \\\\nhttp://t.co/TjX0AvEBqz Thanks for sharing ht\\\\u2026\\\", \\\"http://t.co/Z1TQA4iCxs\\\": \\\"RT @BBC_HaveYourSay: 10 out of 10?  8 or less? Thanks for sharing your views and scores on the new #Windows10 http://t.co/Z1TQA4iCxs http:/\\\\u2026\\\"}, \\\"location\\\": \\\"Nice\\\"}\", \"type\": \"Feature\"}, {\"geometry\": {\"coordinates\": [-3.68, 40.41], \"type\": \"Point\"}, \"properties\": \"{\\\"articles\\\": {\\\"http://t.co/BdP9nRiU3j\\\": \\\"One person reported dead as hundreds tried to enter Channel Tunnel terminal in Calais on Tuesday night http://t.co/BdP9nRiU3j\\\", \\\"http://t.co/pOrEaSzLwe\\\": \\\"RT @BBCNewsUS: How did this Nazi flagship become the Eagle of the @USCoastguard? http://t.co/pOrEaSzLwe\\\\nhttps://t.co/TRrdesCmDX\\\"}, \\\"location\\\": \\\"Victoria\\\"}\", \"type\": \"Feature\"}]\n"
     ]
    }
   ],
   "source": []
  },
  {
   "cell_type": "code",
   "execution_count": 89,
   "metadata": {
    "collapsed": false
   },
   "outputs": [
    {
     "ename": "TypeError",
     "evalue": "expected string or buffer",
     "output_type": "error",
     "traceback": [
      "\u001b[0;31m---------------------------------------------------------------------------\u001b[0m",
      "\u001b[0;31mTypeError\u001b[0m                                 Traceback (most recent call last)",
      "\u001b[0;32m<ipython-input-89-43cec7efc17a>\u001b[0m in \u001b[0;36m<module>\u001b[0;34m()\u001b[0m\n\u001b[0;32m----> 1\u001b[0;31m \u001b[0mjson\u001b[0m\u001b[0;34m.\u001b[0m\u001b[0mloads\u001b[0m\u001b[0;34m(\u001b[0m\u001b[0mx\u001b[0m\u001b[0;34m)\u001b[0m\u001b[0;34m\u001b[0m\u001b[0m\n\u001b[0m",
      "\u001b[0;32m/usr/local/Cellar/python/2.7.10_1/Frameworks/Python.framework/Versions/2.7/lib/python2.7/json/__init__.pyc\u001b[0m in \u001b[0;36mloads\u001b[0;34m(s, encoding, cls, object_hook, parse_float, parse_int, parse_constant, object_pairs_hook, **kw)\u001b[0m\n\u001b[1;32m    336\u001b[0m             \u001b[0mparse_int\u001b[0m \u001b[0;32mis\u001b[0m \u001b[0mNone\u001b[0m \u001b[0;32mand\u001b[0m \u001b[0mparse_float\u001b[0m \u001b[0;32mis\u001b[0m \u001b[0mNone\u001b[0m \u001b[0;32mand\u001b[0m\u001b[0;34m\u001b[0m\u001b[0m\n\u001b[1;32m    337\u001b[0m             parse_constant is None and object_pairs_hook is None and not kw):\n\u001b[0;32m--> 338\u001b[0;31m         \u001b[0;32mreturn\u001b[0m \u001b[0m_default_decoder\u001b[0m\u001b[0;34m.\u001b[0m\u001b[0mdecode\u001b[0m\u001b[0;34m(\u001b[0m\u001b[0ms\u001b[0m\u001b[0;34m)\u001b[0m\u001b[0;34m\u001b[0m\u001b[0m\n\u001b[0m\u001b[1;32m    339\u001b[0m     \u001b[0;32mif\u001b[0m \u001b[0mcls\u001b[0m \u001b[0;32mis\u001b[0m \u001b[0mNone\u001b[0m\u001b[0;34m:\u001b[0m\u001b[0;34m\u001b[0m\u001b[0m\n\u001b[1;32m    340\u001b[0m         \u001b[0mcls\u001b[0m \u001b[0;34m=\u001b[0m \u001b[0mJSONDecoder\u001b[0m\u001b[0;34m\u001b[0m\u001b[0m\n",
      "\u001b[0;32m/usr/local/Cellar/python/2.7.10_1/Frameworks/Python.framework/Versions/2.7/lib/python2.7/json/decoder.pyc\u001b[0m in \u001b[0;36mdecode\u001b[0;34m(self, s, _w)\u001b[0m\n\u001b[1;32m    364\u001b[0m \u001b[0;34m\u001b[0m\u001b[0m\n\u001b[1;32m    365\u001b[0m         \"\"\"\n\u001b[0;32m--> 366\u001b[0;31m         \u001b[0mobj\u001b[0m\u001b[0;34m,\u001b[0m \u001b[0mend\u001b[0m \u001b[0;34m=\u001b[0m \u001b[0mself\u001b[0m\u001b[0;34m.\u001b[0m\u001b[0mraw_decode\u001b[0m\u001b[0;34m(\u001b[0m\u001b[0ms\u001b[0m\u001b[0;34m,\u001b[0m \u001b[0midx\u001b[0m\u001b[0;34m=\u001b[0m\u001b[0m_w\u001b[0m\u001b[0;34m(\u001b[0m\u001b[0ms\u001b[0m\u001b[0;34m,\u001b[0m \u001b[0;36m0\u001b[0m\u001b[0;34m)\u001b[0m\u001b[0;34m.\u001b[0m\u001b[0mend\u001b[0m\u001b[0;34m(\u001b[0m\u001b[0;34m)\u001b[0m\u001b[0;34m)\u001b[0m\u001b[0;34m\u001b[0m\u001b[0m\n\u001b[0m\u001b[1;32m    367\u001b[0m         \u001b[0mend\u001b[0m \u001b[0;34m=\u001b[0m \u001b[0m_w\u001b[0m\u001b[0;34m(\u001b[0m\u001b[0ms\u001b[0m\u001b[0;34m,\u001b[0m \u001b[0mend\u001b[0m\u001b[0;34m)\u001b[0m\u001b[0;34m.\u001b[0m\u001b[0mend\u001b[0m\u001b[0;34m(\u001b[0m\u001b[0;34m)\u001b[0m\u001b[0;34m\u001b[0m\u001b[0m\n\u001b[1;32m    368\u001b[0m         \u001b[0;32mif\u001b[0m \u001b[0mend\u001b[0m \u001b[0;34m!=\u001b[0m \u001b[0mlen\u001b[0m\u001b[0;34m(\u001b[0m\u001b[0ms\u001b[0m\u001b[0;34m)\u001b[0m\u001b[0;34m:\u001b[0m\u001b[0;34m\u001b[0m\u001b[0m\n",
      "\u001b[0;31mTypeError\u001b[0m: expected string or buffer"
     ]
    }
   ],
   "source": [
    "json.loads(x)"
   ]
  },
  {
   "cell_type": "code",
   "execution_count": null,
   "metadata": {
    "collapsed": true
   },
   "outputs": [],
   "source": []
  },
  {
   "cell_type": "code",
   "execution_count": null,
   "metadata": {
    "collapsed": true
   },
   "outputs": [],
   "source": []
  }
 ],
 "metadata": {
  "kernelspec": {
   "display_name": "Python 2",
   "language": "python",
   "name": "python2"
  },
  "language_info": {
   "codemirror_mode": {
    "name": "ipython",
    "version": 2
   },
   "file_extension": ".py",
   "mimetype": "text/x-python",
   "name": "python",
   "nbconvert_exporter": "python",
   "pygments_lexer": "ipython2",
   "version": "2.7.10"
  }
 },
 "nbformat": 4,
 "nbformat_minor": 0
}
