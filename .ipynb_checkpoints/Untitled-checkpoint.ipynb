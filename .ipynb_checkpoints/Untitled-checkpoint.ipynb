{
 "cells": [
  {
   "cell_type": "code",
   "execution_count": 51,
   "metadata": {
    "collapsed": true
   },
   "outputs": [],
   "source": [
    "def create_geojson():\n",
    "    cities = models.Locations.query.all()\n",
    "    lst = []\n",
    "    for location in cities:\n",
    "        tweets = location.get_tweets()\n",
    "        if tweets:\n",
    "            point = geojson.Point((location.latitude, location.longitude))\n",
    "            properties = {}\n",
    "            properties['location']=location.location\n",
    "            articles={}\n",
    "            for tweet in tweets:\n",
    "                articles[tweet.t_url]=tweet.headline\n",
    "            properties['articles']=articles\n",
    "            print properties\n",
    "            j_properties = json.dumps(properties)\n",
    "\n",
    "            lst.append(Feature(geometry=my_point, properties=j_properties))\n",
    "    return lst\n",
    "           "
   ]
  },
  {
   "cell_type": "code",
   "execution_count": 52,
   "metadata": {
    "collapsed": false
   },
   "outputs": [],
   "source": [
    "from app import models, db\n",
    "import twitter\n",
    "import requests\n",
    "from bs4 import BeautifulSoup\n",
    "import json\n",
    "from app import cities\n",
    "import re\n",
    "import geojson\n",
    "import json"
   ]
  },
  {
   "cell_type": "code",
   "execution_count": 53,
   "metadata": {
    "collapsed": false,
    "scrolled": true
   },
   "outputs": [
    {
     "name": "stdout",
     "output_type": "stream",
     "text": [
      "{u'http://t.co/test': u'TEST'}\n",
      "{u'http://t.co/ekHLiCykng': u'Cincinnati Bengals player Devon Still confirms his daughter Leah remains cancer-free: http://t.co/ekHLiCykng http://t.co/FmwIie5FfK'}\n",
      "{u'http://t.co/wVMPxptmXQ': u\"RT @bbcworldservice: Here's Joan Hooley - one half of the first-ever interracial kiss on TV \\U0001f4fb http://t.co/wVMPxptmXQ http://t.co/7xCf0iiVRu\", u'http://t.co/987yN8S8JA': u\"Two people who triggered closure of Manchester Royal Infirmary's casualty unit test negative for Mers virus http://t.co/987yN8S8JA\", u'http://t.co/MzikNALdrb': u'Manchester Royal Infirmary temporarily shuts A&amp;E unit after suspected Middle Eastern Respiratory Syndrome outbreak http://t.co/MzikNALdrb'}\n",
      "{u'http://t.co/E61vAI35yS': u\"RT @BBCMonitoring: France's foreign minister breaks new ground with op-ed in Iranian newspaper http://t.co/E61vAI35yS http://t.co/HZ9u88Iy8a\"}\n",
      "{u'http://t.co/oeOzU64e7I': u\"RT @BBCMonitoring: China's new breed of topical TV debate shows put officials on the spot http://t.co/oeOzU64e7I http://t.co/ixa5gLtQBl\"}\n",
      "{u'http://t.co/Gp80SnvJFS': u'RT @BBCMonitoring: Egypt hopes ambitious plan for a second Suez Canal will create 1m jobs http://t.co/Gp80SnvJFS http://t.co/MypCZYgmLV'}\n",
      "{u'http://t.co/I6zof5anHu': u'Lord Sewel given \"leave of absence\" from House of Lords after being filmed allegedly taking drugs with prostitutes. http://t.co/I6zof5anHu', u'http://t.co/zvXpVfANI8': u'RT @BBCClick: Nokia has its eyes on Hollywood and plans to develop a virtual reality camera for the movie industry http://t.co/zvXpVfANI8', u'http://t.co/iRv3YqpP2y': u'About 2,000 migrants tried to enter Channel Tunnel terminal in Calais on Monday night, operator Eurotunnel says http://t.co/iRv3YqpP2y', u'http://t.co/YiODaXnWWs': u'RT @BBCNews: Revealed: How ants move massive meals http://t.co/YiODaXnWWs http://t.co/FsJMSHdKdd', u'http://t.co/93voXyWxUY': u'Lord Sewel resigns from UK Parliament after being filmed allegedly taking drugs with sex workers http://t.co/93voXyWxUY', u'http://t.co/EHbQnXIIXo': u'Former PM &amp; spy chief will also face Libya firing squad alongside Saif al-Islam Gaddafi http://t.co/EHbQnXIIXo http://t.co/SQAzbBYEYJ', u'http://t.co/Z1TQA4iCxs': u'RT @BBC_HaveYourSay: 10 out of 10?  8 or less? Thanks for sharing your views and scores on the new #Windows10 http://t.co/Z1TQA4iCxs http:/\\u2026', u'http://t.co/987yN8S8JA': u\"Two people who triggered closure of Manchester Royal Infirmary's casualty unit test negative for Mers virus http://t.co/987yN8S8JA\", u'http://t.co/u7sU6XfQmh': u\"Saif al-Islam Gaddafi, son of Libya's ex-leader Colonel Gaddafi, sentenced to death over war crimes in 2011 uprising http://t.co/u7sU6XfQmh\", u'http://t.co/qKPIVjzmAs': u'Taliban leader Mullah Omar died in 2013, Afghan government says http://t.co/qKPIVjzmAs http://t.co/HWNh7FCPC5', u'http://t.co/UV3tb8sRKU': u'RT @BBCNewsMagazine: The reasons why some parents disinherit their children http://t.co/UV3tb8sRKU http://t.co/SZKl2UVt0F', u'http://t.co/cx8qWfQ47m': u'Taliban leader Mullah Omar has died, Afghan government sources say, but the militant group has not commented http://t.co/cx8qWfQ47m', u'http://t.co/SxnqIxz5vh': u'Lord Sewel must quit over sex &amp; drugs claims, ex-Commons speaker Baroness Boothroyd tells BBC http://t.co/SxnqIxz5vh http://t.co/nImtgo81SL', u'http://t.co/pOrEaSzLwe': u'RT @BBCNewsUS: How did this Nazi flagship become the Eagle of the @USCoastguard? http://t.co/pOrEaSzLwe\\nhttps://t.co/TRrdesCmDX', u'http://t.co/wADF8I3sli': u\"Former BBC horse racing commentator Sir Peter O'Sullevan dies aged 97 http://t.co/wADF8I3sli http://t.co/BAuyqyWVAr\", u'http://t.co/GlQyGwWtIH': u\"Statement from Lord Sewel, who's quit as UK peer after sex &amp; drugs scandal http://t.co/GlQyGwWtIH http://t.co/SxxD6EbdcE\", u'http://t.co/BdP9nRiU3j': u'One person reported dead as hundreds tried to enter Channel Tunnel terminal in Calais on Tuesday night http://t.co/BdP9nRiU3j', u'http://t.co/p19DFfJDfa': u'Remains found at site of explosion at mill in Bosley by police looking for fourth missing person http://t.co/p19DFfJDfa', u'http://t.co/MzikNALdrb': u'Manchester Royal Infirmary temporarily shuts A&amp;E unit after suspected Middle Eastern Respiratory Syndrome outbreak http://t.co/MzikNALdrb'}\n",
      "{u'http://t.co/qKPIVjzmAs': u'Taliban leader Mullah Omar died in 2013, Afghan government says http://t.co/qKPIVjzmAs http://t.co/HWNh7FCPC5', u'http://t.co/cx8qWfQ47m': u'Taliban leader Mullah Omar has died, Afghan government sources say, but the militant group has not commented http://t.co/cx8qWfQ47m'}\n",
      "{u'http://t.co/BdP9nRiU3j': u'One person reported dead as hundreds tried to enter Channel Tunnel terminal in Calais on Tuesday night http://t.co/BdP9nRiU3j'}\n",
      "{u'http://t.co/SxnqIxz5vh': u'Lord Sewel must quit over sex &amp; drugs claims, ex-Commons speaker Baroness Boothroyd tells BBC http://t.co/SxnqIxz5vh http://t.co/nImtgo81SL'}\n",
      "{u'http://t.co/594BkYZdSo': u'8 children injured, 2 critically, when 70-foot-tall pine tree crashes down outside CA museum: http://t.co/594BkYZdSo http://t.co/TrSjHqT1rd', u'http://t.co/zvXpVfANI8': u'RT @BBCClick: Nokia has its eyes on Hollywood and plans to develop a virtual reality camera for the movie industry http://t.co/zvXpVfANI8'}\n",
      "{u'http://t.co/UV3tb8sRKU': u'RT @BBCNewsMagazine: The reasons why some parents disinherit their children http://t.co/UV3tb8sRKU http://t.co/SZKl2UVt0F'}\n",
      "{u'http://t.co/oeOzU64e7I': u\"RT @BBCMonitoring: China's new breed of topical TV debate shows put officials on the spot http://t.co/oeOzU64e7I http://t.co/ixa5gLtQBl\"}\n",
      "{u'http://t.co/pOrEaSzLwe': u'RT @BBCNewsUS: How did this Nazi flagship become the Eagle of the @USCoastguard? http://t.co/pOrEaSzLwe\\nhttps://t.co/TRrdesCmDX'}\n",
      "{u'http://t.co/pOrEaSzLwe': u'RT @BBCNewsUS: How did this Nazi flagship become the Eagle of the @USCoastguard? http://t.co/pOrEaSzLwe\\nhttps://t.co/TRrdesCmDX'}\n",
      "{u'http://t.co/p19DFfJDfa': u'Remains found at site of explosion at mill in Bosley by police looking for fourth missing person http://t.co/p19DFfJDfa'}\n",
      "{u'http://t.co/FmalfFAnq9': u\"James Holmes' father says son is 'excellent kid' in desperate bid to save his life: http://t.co/FmalfFAnq9 http://t.co/unAsaHV0mh\", u'http://t.co/pOrEaSzLwe': u'RT @BBCNewsUS: How did this Nazi flagship become the Eagle of the @USCoastguard? http://t.co/pOrEaSzLwe\\nhttps://t.co/TRrdesCmDX'}\n",
      "{u'http://t.co/qvWN5Zxldz': u\"Patriots owner Bob Kraft defends Tom Brady, calls #Deflategate game suspension 'unfathomable' http://t.co/qvWN5Zxldz http://t.co/RwtCymij2q\", u'http://t.co/oeOzU64e7I': u\"RT @BBCMonitoring: China's new breed of topical TV debate shows put officials on the spot http://t.co/oeOzU64e7I http://t.co/ixa5gLtQBl\"}\n",
      "{u'http://t.co/qvWN5Zxldz': u\"Patriots owner Bob Kraft defends Tom Brady, calls #Deflategate game suspension 'unfathomable' http://t.co/qvWN5Zxldz http://t.co/RwtCymij2q\"}\n",
      "{u'http://t.co/m6Lj7yQa7C': u'Curtis Jones, the youngest person in US convicted of murder, released after serving 16 years: http://t.co/m6Lj7yQa7C http://t.co/1zgpBHuzrA'}\n",
      "{u'http://t.co/pOrEaSzLwe': u'RT @BBCNewsUS: How did this Nazi flagship become the Eagle of the @USCoastguard? http://t.co/pOrEaSzLwe\\nhttps://t.co/TRrdesCmDX'}\n",
      "{u'http://t.co/qKPIVjzmAs': u'Taliban leader Mullah Omar died in 2013, Afghan government says http://t.co/qKPIVjzmAs http://t.co/HWNh7FCPC5', u'http://t.co/cx8qWfQ47m': u'Taliban leader Mullah Omar has died, Afghan government sources say, but the militant group has not commented http://t.co/cx8qWfQ47m'}\n",
      "{u'http://t.co/GlQyGwWtIH': u\"Statement from Lord Sewel, who's quit as UK peer after sex &amp; drugs scandal http://t.co/GlQyGwWtIH http://t.co/SxxD6EbdcE\", u'http://t.co/BdP9nRiU3j': u'One person reported dead as hundreds tried to enter Channel Tunnel terminal in Calais on Tuesday night http://t.co/BdP9nRiU3j', u'http://t.co/93voXyWxUY': u'Lord Sewel resigns from UK Parliament after being filmed allegedly taking drugs with sex workers http://t.co/93voXyWxUY'}\n",
      "{u'http://t.co/WN7rISkO5X': u'Watch Houston parents break into locked daycare to rescue 10-month old son: http://t.co/WN7rISkO5X http://t.co/TNKq8FYwaN'}\n",
      "{u'http://t.co/EHbQnXIIXo': u'Former PM &amp; spy chief will also face Libya firing squad alongside Saif al-Islam Gaddafi http://t.co/EHbQnXIIXo http://t.co/SQAzbBYEYJ', u'http://t.co/u7sU6XfQmh': u\"Saif al-Islam Gaddafi, son of Libya's ex-leader Colonel Gaddafi, sentenced to death over war crimes in 2011 uprising http://t.co/u7sU6XfQmh\"}\n",
      "{u'http://t.co/pOrEaSzLwe': u'RT @BBCNewsUS: How did this Nazi flagship become the Eagle of the @USCoastguard? http://t.co/pOrEaSzLwe\\nhttps://t.co/TRrdesCmDX'}\n",
      "{u'http://t.co/FmalfFAnq9': u\"James Holmes' father says son is 'excellent kid' in desperate bid to save his life: http://t.co/FmalfFAnq9 http://t.co/unAsaHV0mh\"}\n",
      "{u'http://t.co/oeOzU64e7I': u\"RT @BBCMonitoring: China's new breed of topical TV debate shows put officials on the spot http://t.co/oeOzU64e7I http://t.co/ixa5gLtQBl\"}\n",
      "{u'http://t.co/Gp80SnvJFS': u'RT @BBCMonitoring: Egypt hopes ambitious plan for a second Suez Canal will create 1m jobs http://t.co/Gp80SnvJFS http://t.co/MypCZYgmLV'}\n",
      "{u'http://t.co/UV3tb8sRKU': u'RT @BBCNewsMagazine: The reasons why some parents disinherit their children http://t.co/UV3tb8sRKU http://t.co/SZKl2UVt0F'}\n",
      "{u'http://t.co/Z6zUXMZg3j': u'400-year-old remains identified as founders of Jamestown, buried with a mysterious reliquary: http://t.co/Z6zUXMZg3j http://t.co/vGhhJRkPhf'}\n",
      "{u'http://t.co/Z6zUXMZg3j': u'400-year-old remains identified as founders of Jamestown, buried with a mysterious reliquary: http://t.co/Z6zUXMZg3j http://t.co/vGhhJRkPhf'}\n",
      "{u'http://t.co/pOrEaSzLwe': u'RT @BBCNewsUS: How did this Nazi flagship become the Eagle of the @USCoastguard? http://t.co/pOrEaSzLwe\\nhttps://t.co/TRrdesCmDX'}\n",
      "{u'http://t.co/I6zof5anHu': u'Lord Sewel given \"leave of absence\" from House of Lords after being filmed allegedly taking drugs with prostitutes. http://t.co/I6zof5anHu', u'http://t.co/zvXpVfANI8': u'RT @BBCClick: Nokia has its eyes on Hollywood and plans to develop a virtual reality camera for the movie industry http://t.co/zvXpVfANI8', u'http://t.co/iRv3YqpP2y': u'About 2,000 migrants tried to enter Channel Tunnel terminal in Calais on Monday night, operator Eurotunnel says http://t.co/iRv3YqpP2y', u'http://t.co/YiODaXnWWs': u'RT @BBCNews: Revealed: How ants move massive meals http://t.co/YiODaXnWWs http://t.co/FsJMSHdKdd', u'http://t.co/93voXyWxUY': u'Lord Sewel resigns from UK Parliament after being filmed allegedly taking drugs with sex workers http://t.co/93voXyWxUY', u'http://t.co/EHbQnXIIXo': u'Former PM &amp; spy chief will also face Libya firing squad alongside Saif al-Islam Gaddafi http://t.co/EHbQnXIIXo http://t.co/SQAzbBYEYJ', u'http://t.co/987yN8S8JA': u\"Two people who triggered closure of Manchester Royal Infirmary's casualty unit test negative for Mers virus http://t.co/987yN8S8JA\", u'http://t.co/u7sU6XfQmh': u\"Saif al-Islam Gaddafi, son of Libya's ex-leader Colonel Gaddafi, sentenced to death over war crimes in 2011 uprising http://t.co/u7sU6XfQmh\", u'http://t.co/qKPIVjzmAs': u'Taliban leader Mullah Omar died in 2013, Afghan government says http://t.co/qKPIVjzmAs http://t.co/HWNh7FCPC5', u'http://t.co/UV3tb8sRKU': u'RT @BBCNewsMagazine: The reasons why some parents disinherit their children http://t.co/UV3tb8sRKU http://t.co/SZKl2UVt0F', u'http://t.co/cx8qWfQ47m': u'Taliban leader Mullah Omar has died, Afghan government sources say, but the militant group has not commented http://t.co/cx8qWfQ47m', u'http://t.co/Z1TQA4iCxs': u'RT @BBC_HaveYourSay: 10 out of 10?  8 or less? Thanks for sharing your views and scores on the new #Windows10 http://t.co/Z1TQA4iCxs http:/\\u2026', u'http://t.co/pOrEaSzLwe': u'RT @BBCNewsUS: How did this Nazi flagship become the Eagle of the @USCoastguard? http://t.co/pOrEaSzLwe\\nhttps://t.co/TRrdesCmDX', u'http://t.co/SxnqIxz5vh': u'Lord Sewel must quit over sex &amp; drugs claims, ex-Commons speaker Baroness Boothroyd tells BBC http://t.co/SxnqIxz5vh http://t.co/nImtgo81SL', u'http://t.co/GlQyGwWtIH': u\"Statement from Lord Sewel, who's quit as UK peer after sex &amp; drugs scandal http://t.co/GlQyGwWtIH http://t.co/SxxD6EbdcE\", u'http://t.co/BdP9nRiU3j': u'One person reported dead as hundreds tried to enter Channel Tunnel terminal in Calais on Tuesday night http://t.co/BdP9nRiU3j', u'http://t.co/p19DFfJDfa': u'Remains found at site of explosion at mill in Bosley by police looking for fourth missing person http://t.co/p19DFfJDfa', u'http://t.co/MzikNALdrb': u'Manchester Royal Infirmary temporarily shuts A&amp;E unit after suspected Middle Eastern Respiratory Syndrome outbreak http://t.co/MzikNALdrb'}\n",
      "{u'http://t.co/GrZijxaJYS': u'Dentist who admitted to killing Cecil the lion now hounded on social media: http://t.co/GrZijxaJYS http://t.co/sCBELqGtMN'}\n",
      "{u'http://t.co/hmXc2zoxCE': u'Washington, DC is literally sinking into the Earth: http://t.co/hmXc2zoxCE http://t.co/GYXeIk9xjI', u'http://t.co/qKPIVjzmAs': u'Taliban leader Mullah Omar died in 2013, Afghan government says http://t.co/qKPIVjzmAs http://t.co/HWNh7FCPC5', u'http://t.co/Z6zUXMZg3j': u'400-year-old remains identified as founders of Jamestown, buried with a mysterious reliquary: http://t.co/Z6zUXMZg3j http://t.co/vGhhJRkPhf', u'http://t.co/cx8qWfQ47m': u'Taliban leader Mullah Omar has died, Afghan government sources say, but the militant group has not commented http://t.co/cx8qWfQ47m'}\n",
      "{u'http://t.co/5daVQ12dJB': u'Police rescue bulldog from searing hot car in NJ while the owner shopped: http://t.co/5daVQ12dJB http://t.co/Acc5FndjZm'}\n",
      "{u'http://t.co/pOrEaSzLwe': u'RT @BBCNewsUS: How did this Nazi flagship become the Eagle of the @USCoastguard? http://t.co/pOrEaSzLwe\\nhttps://t.co/TRrdesCmDX'}\n",
      "{u'http://t.co/E61vAI35yS': u\"RT @BBCMonitoring: France's foreign minister breaks new ground with op-ed in Iranian newspaper http://t.co/E61vAI35yS http://t.co/HZ9u88Iy8a\"}\n",
      "{u'http://t.co/TjX0AvEBqz': u'RT @BBC_HaveYourSay: What a creative bunch \\U0001f44f See your colouring creations in this collection: \\nhttp://t.co/TjX0AvEBqz Thanks for sharing ht\\u2026', u'http://t.co/Z1TQA4iCxs': u'RT @BBC_HaveYourSay: 10 out of 10?  8 or less? Thanks for sharing your views and scores on the new #Windows10 http://t.co/Z1TQA4iCxs http:/\\u2026'}\n",
      "{u'http://t.co/BdP9nRiU3j': u'One person reported dead as hundreds tried to enter Channel Tunnel terminal in Calais on Tuesday night http://t.co/BdP9nRiU3j', u'http://t.co/pOrEaSzLwe': u'RT @BBCNewsUS: How did this Nazi flagship become the Eagle of the @USCoastguard? http://t.co/pOrEaSzLwe\\nhttps://t.co/TRrdesCmDX'}\n"
     ]
    }
   ],
   "source": [
    "create_geojson()"
   ]
  },
  {
   "cell_type": "code",
   "execution_count": 10,
   "metadata": {
    "collapsed": false
   },
   "outputs": [
    {
     "ename": "NameError",
     "evalue": "name 'location' is not defined",
     "output_type": "error",
     "traceback": [
      "\u001b[0;31m---------------------------------------------------------------------------\u001b[0m",
      "\u001b[0;31mNameError\u001b[0m                                 Traceback (most recent call last)",
      "\u001b[0;32m<ipython-input-10-67257e5787d8>\u001b[0m in \u001b[0;36m<module>\u001b[0;34m()\u001b[0m\n\u001b[0;32m----> 1\u001b[0;31m \u001b[0mtweets\u001b[0m \u001b[0;34m=\u001b[0m \u001b[0mlocation\u001b[0m\u001b[0;34m.\u001b[0m\u001b[0mget_tweets\u001b[0m\u001b[0;34m(\u001b[0m\u001b[0;34m)\u001b[0m\u001b[0;34m\u001b[0m\u001b[0m\n\u001b[0m",
      "\u001b[0;31mNameError\u001b[0m: name 'location' is not defined"
     ]
    }
   ],
   "source": []
  },
  {
   "cell_type": "code",
   "execution_count": 19,
   "metadata": {
    "collapsed": false
   },
   "outputs": [],
   "source": [
    "my_point = geojson.Point((-3.68, 40.41))"
   ]
  },
  {
   "cell_type": "code",
   "execution_count": null,
   "metadata": {
    "collapsed": true
   },
   "outputs": [],
   "source": []
  }
 ],
 "metadata": {
  "kernelspec": {
   "display_name": "Python 2",
   "language": "python",
   "name": "python2"
  },
  "language_info": {
   "codemirror_mode": {
    "name": "ipython",
    "version": 2
   },
   "file_extension": ".py",
   "mimetype": "text/x-python",
   "name": "python",
   "nbconvert_exporter": "python",
   "pygments_lexer": "ipython2",
   "version": "2.7.10"
  }
 },
 "nbformat": 4,
 "nbformat_minor": 0
}
